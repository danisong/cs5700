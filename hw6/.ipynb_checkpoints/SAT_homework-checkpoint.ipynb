{
 "cells": [
  {
   "cell_type": "markdown",
   "metadata": {},
   "source": [
    "# Homework 6\n",
    "\n",
    "Due: May 3, 11:59pm\n",
    "\n",
    "Late deadline (50\\% off): May 5, 11:59pm\n",
    "\n",
    "Name: Your Name\n",
    "\n",
    "NetID: Your NetID\n",
    "\n",
    "\n",
    "## Instructions\n",
    "Read through this python notebook. You will be asked questions and given programming tasks. These are numbered, followed by point values for grading (for example, \"Question 17.8 (5pt)\"). You should edit the notebook directly to input your solution code and question answers. You can double click on text to edit it, which you should use for putting your question answers in the notebook.\n",
    "\n",
    "When you are ready to submit, you should run all of your code (click Cell->Run All). Then you should submit **three** files to gradescope:\n",
    "* PDF: export to PDF (click File->Download as->PDF via LaTeX)\n",
    "* .py: export to Python (click File->Download as->Python (.py))\n",
    "* .ipynb: submit the edited Jupyter Notebook\n"
   ]
  },
  {
   "cell_type": "markdown",
   "metadata": {
    "id": "3YkhTd5SHieg"
   },
   "source": [
    "### Experimenting with SAT solvers: an introduction"
   ]
  },
  {
   "cell_type": "markdown",
   "metadata": {
    "id": "-9ztEWuqIoI_"
   },
   "source": [
    "A SAT solver takes as input a propositional formula in conjunctive normal form (CNF) and returns one of two answers: SAT, if the formula is satisfiable, or UNSAT, if it is unsatisfiable.  If the answer is SAT the solver will furthermore return a satisfying assignment.  SAT is an example of an NP-complete problem (in, fact it was the first problem class discovered to be NP-complete!), and thus the best algorithms require time exponential in the number of propositional symbols in the worst case.  Quite surprisingly, SAT solvers can nonetheless produce an answer for a formula with over a million variables in seconds. As a result SAT solvers have become the \"go to\" tool for solving NP-hard problems in the absence of known problem-specific heuristics, and they have made a large impact on the real world in areas such as hardware design verification, scheduling problems, and automatic theorem proving.\n",
    "\n",
    "Using a SAT solver on a given problem requires converting the problem into an equivalent propositional satisfiability question, solving the SAT question, and then converting the answer back to the terms in which the original problem was posed.  The goal of this exercise is to give you some experience with SAT solvers, both in encoding a problem as a SAT question, and to get a sense of its efficiency. You can find further information about SAT solvers in the following [presentation](https://courses.cs.washington.edu/courses/csep573/11wi/lectures/ashish-satsolvers.pdf)."
   ]
  },
  {
   "cell_type": "markdown",
   "metadata": {
    "id": "Z9kLCGviG3PQ"
   },
   "source": [
    "### Setting up a SAT solver in Python"
   ]
  },
  {
   "cell_type": "markdown",
   "metadata": {
    "id": "LNkxV24SG7-E"
   },
   "source": [
    "In this exercise, we'll use [PySAT](https://github.com/pysathq/pysat). Most modern solvers are written in C++ in order to have the highest possible efficiency; for ease of use, we'll use a Python binding. To install it on your local machine run the following:"
   ]
  },
  {
   "cell_type": "code",
   "execution_count": 2,
   "metadata": {
    "colab": {
     "base_uri": "https://localhost:8080/",
     "height": 204
    },
    "id": "42iKuN7FMETb",
    "outputId": "24dd19ff-dff4-44ac-af47-d7a5e52c6cf8"
   },
   "outputs": [
    {
     "name": "stdout",
     "output_type": "stream",
     "text": [
      "Requirement already satisfied: python-sat in /home/ds2288/.local/lib/python3.8/site-packages (0.1.7.dev16)\r\n",
      "Requirement already satisfied: six in /usr/lib/python3/dist-packages (from python-sat) (1.14.0)\r\n"
     ]
    }
   ],
   "source": [
    "!pip install python-sat"
   ]
  },
  {
   "cell_type": "markdown",
   "metadata": {
    "id": "xAY-V3QWj_7D"
   },
   "source": [
    "Or, if you run into a Python version issue with the command above, try to install it with pip3:"
   ]
  },
  {
   "cell_type": "code",
   "execution_count": 12,
   "metadata": {
    "colab": {
     "base_uri": "https://localhost:8080/",
     "height": 51
    },
    "id": "4SwVUUcXj-yA",
    "outputId": "1d6373a1-fd97-43fd-fedf-0dd5759a75ac"
   },
   "outputs": [
    {
     "name": "stdout",
     "output_type": "stream",
     "text": [
      "Requirement already satisfied: python-sat in /home/ellisk/anaconda3/lib/python3.8/site-packages (0.1.7.dev16)\r\n",
      "Requirement already satisfied: six in /home/ellisk/anaconda3/lib/python3.8/site-packages (from python-sat) (1.15.0)\r\n"
     ]
    }
   ],
   "source": [
    "!pip3 install python-sat"
   ]
  },
  {
   "cell_type": "markdown",
   "metadata": {
    "id": "L8c3KhO4M1Q4"
   },
   "source": [
    "Now we are ready to import it. PySAT binds to many popular SAT solvers. In this assignment, we'll be using [MiniSAT](http://minisat.se/), because it is a very simple yet efficient solver, and many other modern solvers have built on top of it. If you read the C++ source code, it is only *a few* hundreds of lines."
   ]
  },
  {
   "cell_type": "code",
   "execution_count": 3,
   "metadata": {
    "colab": {
     "base_uri": "https://localhost:8080/",
     "height": 51
    },
    "id": "6N7JpBEXMzdY",
    "outputId": "2d634180-7acb-4d41-c7cb-594f95363fda"
   },
   "outputs": [
    {
     "name": "stdout",
     "output_type": "stream",
     "text": [
      "True\n",
      "[-1, -2, -3]\n"
     ]
    }
   ],
   "source": [
    "from pysat.solvers import Minisat22\n",
    "\n",
    "solver = Minisat22()\n",
    "solver.add_clause([-1, 2])\n",
    "solver.add_clause([-2, 3])\n",
    "print(solver.solve())\n",
    "print(solver.get_model())"
   ]
  },
  {
   "cell_type": "markdown",
   "metadata": {
    "id": "20tHIzMFUZTU"
   },
   "source": [
    "In this example, we first initialized a solver object whose backend is MiniSAT and added two clauses. Recall from lecture that a literal is either a propositional symbol or its negation, and a clause is a disjunction of literals. Here, literals are represented by integers; a postive integer represents an unnegated propositional symbol, and a negative integer represents the negation of a propositional symbol. Thus, for example, the integer +2 could be thought of as representing a propositional symbol $P_2$ and the integer -1 as representing $\\neg P_1$.\n",
    "\n",
    "Next, a clause is represented as a list of literals (positive and negative integers). Thus for example, ``solver.add_clause([-1, 2])`` adds the clause equivalent to $(\\neg P_1 \\vee P_2)$. Note that rather than referring to the propositional symbols as symbols such as $P_2$, we’ll typically use the integer 2 itself to refer to the corresponding propositional symbol.  Note that you don't need to “declare” the propositional variables with PySAT; simply adding a clause that uses a particular integer for the first time is sufficient for the system to understand that the integer represents a new propositional symbol.  The set of clauses added in this fashion are taken as being conjoined together, thereby defining the propositional sentence to be tested by the SAT solver.  Checking the satisfiability of the created CNF formula is done using ``solver.solve()``; if it is satisfiable, ``solver.get_model()`` returns a truth assignment that satisfies the formula. We'll be using the ``.add_clause()``, ``.solve()``, and ``.get_model()`` methods a lot later in this exercise."
   ]
  },
  {
   "cell_type": "markdown",
   "metadata": {
    "id": "AzjnxgtSvjbV"
   },
   "source": [
    "### A tutorial: Solving a minesweeper puzzle via SAT technology"
   ]
  },
  {
   "cell_type": "markdown",
   "metadata": {
    "id": "ljQ1FnTBvrWQ"
   },
   "source": [
    "<center>\n",
    "<img src=\"simple-game.png\" width=200 height=200 />\n",
    "Figure 1: A minesweeper puzzle.\n",
    "</center>\n",
    "\n",
    "First, we will go through a brief tutorial on how to encode a problem using SAT. Encoding a problem with SAT typically involves answering two questions:\n",
    "\n",
    "1.   What are the propositional symbols?\n",
    "2.   How can we write down propositional sentences that reflect the constraints that the problem places on those propositional symbols?\n",
    "\n",
    "Let's take a second and think about these two questions for a minesweeper puzzle. A minesweeper puzzle is based on a computer puzzle game that is installed by default in MS Windows, and also available for most other operating systems. There are mines hidden in the square; you need to find them. Every number says how many cells around it contain mines. Its decision problem -- does the solution exist? -- is NP-complete. To encode this decision problem using SAT, a propositional formula should be built as equivalent to a minesweeper puzzle's decision problem in the sense that every satisfying assignment corresponds to a solution to the minesweeper puzzle, and vice versa. How do we create this one-to-one mapping?\n",
    "\n",
    "There are many ways of translating a minesweeper puzzle into a SAT problem. Here is one example. To answer question #1, let’s create one propositional symbols for each sqaure $(i,j)$, indicating the existence of mines at that location.  To refer to these symbols we’ll use the notation $v_{(i, j)}$, which is the propositional symbol that represents that a mine is placed in location $(i,j)$. It is true if a mine is in location $(i,j)$ – in other words, $v_{(i,j)}=true$ if and only if a mine is in square $(i,j)$.\n",
    "\n",
    "Next, how do we represent these propositional symbols in a SAT solver? We create two mappings: in the example above, we use $v_{(i, j)}$ to represent the propositional symbol corresponding to location $(i, j)$; however, in an actual Python implementation clauses are written in integers (remember we call ``.add_clause([-1, 2])`` to add clause $(\\neg P_1 \\vee P_2)$. Therefore, we need a mechanism to keep track of the relations between variable integers in the SAT solver and propositional symbols associated with each square. We thus create two mappings, one from a propositional symbol representing square $(i, j)$ to a variable integer in the SAT solver, and the other from the variable integer in SAT solver back to the square $(i, j)$. In this way, we are able to keep track of what each variable integer in the solver means. We do this in the following code snippet:\n"
   ]
  },
  {
   "cell_type": "code",
   "execution_count": 4,
   "metadata": {
    "id": "yPj9_I4oWYtQ"
   },
   "outputs": [],
   "source": [
    "n = 5 # there are 5 rows/columns\n",
    "\n",
    "# we create a mapping from propositional symbol v_{(i, j)}\n",
    "# to variables indices in SAT solver.\n",
    "varmap = dict()\n",
    "# we also store the reverse mapping from variables \n",
    "# indices in SAT solver to propositional symbol v_{(i, j)}\n",
    "# so that we can later visualize the solution.\n",
    "mapback = dict()\n",
    "\n",
    "idx = 1\n",
    "for i in range(n):\n",
    "    for j in range(n):\n",
    "        varmap[(i, j)] = idx\n",
    "        mapback[idx] = (i, j)\n",
    "        idx += 1"
   ]
  },
  {
   "cell_type": "markdown",
   "metadata": {
    "id": "j5fF_3TIffSO"
   },
   "source": [
    "Let's do an example to have a better grasp of the mapping:"
   ]
  },
  {
   "cell_type": "code",
   "execution_count": 5,
   "metadata": {
    "colab": {
     "base_uri": "https://localhost:8080/",
     "height": 51
    },
    "id": "j_3B9gBxfmK_",
    "outputId": "9d4b5d41-9e49-4e37-82c0-dd201166a0e8"
   },
   "outputs": [
    {
     "name": "stdout",
     "output_type": "stream",
     "text": [
      "propositional symbol representing square (3, 4) is *20th* variable in the SAT solver.\n",
      "20th variable in SAT solver is propositional symbol representing location *(3, 4)*\n"
     ]
    }
   ],
   "source": [
    "print(\"propositional symbol representing square (3, 4) is *{}th* variable in the SAT solver.\".format(varmap[(3,4)]))\n",
    "i, j = mapback[20]\n",
    "print(\"20th variable in SAT solver is propositional symbol representing location *({}, {})*\".format(i, j))"
   ]
  },
  {
   "cell_type": "markdown",
   "metadata": {
    "id": "TYz_SnUkaq5f"
   },
   "source": [
    "The second question is to formulate propositional sentences that represent the constraints that define a legal solution to a minesweeper problem so that the resulting SAT assignment corresponds to a minesweeper solution.  The nature of minesweeper problems suggests constrains on the number of mines around each visible number. We first decompose the constrain -- exactly $k$ literals are true among $m$ literals, i.e., $x_1 + x_2 + \\cdots + x_m = k$ -- into two parts: (1) *at least* $k$ literals are true among $m$ literals, i.e., $x_1 + x_2 + \\cdots + x_m \\ge k$ and (2) *at most* $k$ literals are true among $m$ literals, i.e., $x_1 + x_2 + \\cdots + x_m \\le k$. Noticing that $x_1 + x_2 + \\cdots + x_m \\le k$ is equivalent to $\\neg x_1 + \\neg  x_2 + \\cdots + \\neg x_m \\ge m-k$, we then mainly focus on how to represent the at-least constrain, i.e., $x_1 + x_2 + \\cdots + x_m \\ge k$, in CNF. As discussed in [this article](https://www.cs.cmu.edu/afs/cs/project/jair/pub/volume21/dixon04a-html/node14.html), it  is easy to prove that $x_1 + x_2 + \\cdots + x_m \\ge k$ is logically equivalent to the set of $m \\choose {m-k+1}$ axioms \n",
    "$$x_{i_1} + x_{i_2} + \\cdots + x_{i_{m-k+1}} \\ge 1.$$\n",
    "Inuitively, if at least $k$ literals (formulating a set $S_k$) are true among $m$ literals (formulating a set $S_m$ and $S_k\\subseteq S_m$), for any choice of $m-k+1$ literals (formulating a set $S_{m-k+1}\\subseteq S_m$), there is at least one literal to be true since $S_{m-k+1}\\cap S_k\\neq \\emptyset$. On the other contrary, if the number of true literals is less than $k$ among $m$ literals, there must exist a choice of $m-k+1$ literals such that all of them are false. Here is how we can write up some code to represent these as a sentence in CNF."
   ]
  },
  {
   "cell_type": "code",
   "execution_count": 6,
   "metadata": {
    "id": "NEvDSqXUae7s"
   },
   "outputs": [],
   "source": [
    "import itertools \n",
    "\n",
    "\"\"\"creates at least constraints.\n",
    "\n",
    "    Keyword arguments:\n",
    "    solver -- to which SAT solver we are adding constraints\n",
    "    var_list -- the set of literals\n",
    "    k -- at least $k$ literals are true in var_list\n",
    "    \"\"\"\n",
    "def at_least(solver, var_list, k):\n",
    "    m = len(var_list)\n",
    "    for inner_var_list in itertools.combinations(var_list, m-k+1):\n",
    "        solver.add_clause(inner_var_list)\n",
    "\n",
    "\n",
    "\"\"\"creates equal to constraints.\n",
    "\n",
    "    Keyword arguments:\n",
    "    solver -- to which SAT solver we are adding constraints\n",
    "    var_list -- the set of literals\n",
    "    k -- exactly $k$ literals are true in var_list\n",
    "    \"\"\"\n",
    "def equal_to(solver, var_list, k):\n",
    "    at_least(solver, var_list, k)\n",
    "    at_least(solver, [-var for var in var_list], len(var_list)-k)\n",
    "        \n",
    "\"\"\"creates minesweeper constraints.\n",
    "\n",
    "    Keyword arguments:\n",
    "    solver -- to which SAT solver we are adding constraints\n",
    "    ivarmap -- the mapping from a boolean variable that represents a specific\n",
    "               symbol and a specific location to an integer in clause\n",
    "    board -- positive numbers indicate the visible numbers. \n",
    "             For example, the board for Figure 1 is [[0,0,1,2,0], [1,2,0,2,0], [0,2,0,2,0],[1,0,1,2,0],[0,0,0,0,0]]\n",
    "    \"\"\"\n",
    "def minesweeper(solver, ivarmap, board):\n",
    "    row_num, col_num = len(board), len(board[0])\n",
    "    for i in range(row_num):\n",
    "        for j in range(col_num):\n",
    "            if board[i][j] > 0:\n",
    "                neighbors = [] \n",
    "                # Enumerating the eight neighbors of the square $(i,j)$\n",
    "                for di, dj in [[1,-1], [1,0], [1,1], [0,1], [-1,1], [-1,0], [-1,-1], [0,-1]]:\n",
    "                    ni, nj = i+di, j+dj\n",
    "                    if ni >= 0 and ni < row_num and nj >= 0 and nj < col_num:\n",
    "                        neighbors.append(ivarmap[(ni, nj)])\n",
    "                # there are $board[i][j]$ mines in the neighborhood of square $(i,j)$\n",
    "                equal_to(solver, neighbors, board[i][j])\n",
    "                # squares with visible numbers cannot be mines\n",
    "                solver.add_clause([-ivarmap[(i,j)]]) "
   ]
  },
  {
   "cell_type": "code",
   "execution_count": 7,
   "metadata": {
    "colab": {
     "base_uri": "https://localhost:8080/",
     "height": 170
    },
    "id": "NDa3YoNVUYLs",
    "outputId": "a155e73f-e000-4f7e-becd-7d13a0cd2439"
   },
   "outputs": [
    {
     "name": "stdout",
     "output_type": "stream",
     "text": [
      "[[' ' ' ' '1' '2' '*']\n",
      " ['1' '2' '*' '2' ' ']\n",
      " ['*' '2' ' ' '2' ' ']\n",
      " ['1' ' ' '1' '2' '*']\n",
      " [' ' ' ' '*' ' ' ' ']]\n"
     ]
    }
   ],
   "source": [
    "import numpy as np  # we'll need numpy's 2-dim array\n",
    "\n",
    "s = Minisat22()\n",
    "board = [[0,0,1,2,0], [1,2,0,2,0], [0,2,0,2,0],[1,0,1,2,0],[0,0,0,0,0]] # for Figure 1\n",
    "\n",
    "# then create the constraints\n",
    "minesweeper(s, varmap, board)\n",
    "\n",
    "\"\"\"print the truth assignment returned by SAT solver to a Sudoku assignment\n",
    "\n",
    "    Keyword arguments:\n",
    "    imodel -- the truth assignment to be decoded to a Sudoku assignment\n",
    "    ivarmap -- the mapping from an integer in SAT solver to a boolean variable \n",
    "               that represents a specific symbol and a specific location\n",
    "    \"\"\"\n",
    "def print_minesweeper(imodel, imapback):\n",
    "    sol = [[num if num > 0 else ' ' for num in row] for row in board]\n",
    "    for i in range(len(imodel)):\n",
    "        if imodel[i] > 0:\n",
    "            x, y = imapback[i+1]\n",
    "            assert(sol[x][y] == ' ')\n",
    "            sol[x][y] = '*'\n",
    "    print(np.array(sol))\n",
    "\n",
    "s.solve()\n",
    "model = s.get_model()\n",
    "print_minesweeper(model, mapback)"
   ]
  },
  {
   "cell_type": "markdown",
   "metadata": {
    "id": "ke0l76NgFAZ0"
   },
   "source": [
    "We’re done!  We now have working code for taking arbitrary minesweeper problems and converting them in propositional satisfiability problems.  You can learn more about this in the following [article](https://codingnest.com/modern-sat-solvers-fast-neat-underused-part-1-of-n/)."
   ]
  },
  {
   "cell_type": "markdown",
   "metadata": {
    "id": "cmIvgdtcGDgH"
   },
   "source": [
    "**Exercise 1 (30 points)** Does this minesweeper puzzle have a unique solution? Use a SAT solver to generate a proof. Please provide comments in your code stating how you have reached the conclusion.\n",
    "\n",
    "<img src=\"unique-sol.png\" width=\"200\" height=\"200\">\n",
    "\n",
    "*HINT:* To prove a minesweeper puzzle has a unique solution, you need to show there is only one satisfying assignment for the minesweeper's corresponding SAT formula.\n",
    "\n"
   ]
  },
  {
   "cell_type": "code",
   "execution_count": 51,
   "metadata": {},
   "outputs": [
    {
     "name": "stdout",
     "output_type": "stream",
     "text": [
      "[[' ' ' ' '1' '2' '*']\n",
      " ['1' '2' '*' '2' ' ']\n",
      " ['*' '2' ' ' '2' ' ']\n",
      " ['1' ' ' '1' '2' '*']\n",
      " [' ' ' ' '*' ' ' ' ']]\n",
      "another solution:\n",
      "[[' ' ' ' '1' '2' ' ']\n",
      " ['1' '2' '*' '2' '*']\n",
      " ['*' '2' ' ' '2' ' ']\n",
      " ['1' ' ' '1' '2' ' ']\n",
      " [' ' ' ' ' ' '*' '*']]\n",
      "is the solution unique? False\n"
     ]
    }
   ],
   "source": [
    "board = [[1, 2, 0, 0, 1], [1, 0, 3, 3, 0], [0, 2, 0, 0, 0], [1, 2, 1, 1, 0], [0, 1, 0, 0, 0]] # unique solution\n",
    "# board = [[0,0,1,2,0], [1,2,0,2,0], [0,2,0,2,0],[1,0,1,2,0],[0,0,0,0,0]] # Figure 1, multiple solutions\n",
    "\n",
    "def has_unique_solution(board):\n",
    "    # should return true if the minesweeper board has a unique solution and otherwise returns false\n",
    "    s = Minisat22()\n",
    "    minesweeper(s, varmap, board)\n",
    "    s.solve()\n",
    "    model_initial = s.get_model()\n",
    "    print_minesweeper(model_initial, mapback)\n",
    "    \n",
    "    for i in range(len(model_initial)):\n",
    "        if model_initial[i] > 0:\n",
    "            model_new = model_initial\n",
    "            s.add_clause([-model_new[i]])\n",
    "            s.solve()\n",
    "            model_new = s.get_model()\n",
    "            if model_new != None:\n",
    "                print(\"another solution:\")\n",
    "                print_minesweeper(model_new, mapback)\n",
    "                return False\n",
    "    return True\n",
    "\n",
    "# By adding each location where the mine is in the initial model as constraint to solver, my program checks if there is\n",
    "# another solution that doesn't have mine in that location. If there is no solution (solver gives none as model) that\n",
    "# doesn't have mine in the original locations of mines, then we know there can only be one solution, the original.\n",
    "# However, if there is even one solution where a mine doesn't exist in the original position, then we have multiple\n",
    "# solutions.\n",
    "    \n",
    "print(\"is the solution unique?\", has_unique_solution(board))"
   ]
  },
  {
   "cell_type": "markdown",
   "metadata": {
    "id": "vYqCdIYgD73A"
   },
   "source": [
    "**Exercise 2  (30 points)** Use a SAT solver to generate a solution for the 3D minesweeper variant, where, the mines are hidden in a 3-dimensional space where squares are indexed by $(i,j,k)$.\n",
    "\n",
    "<img src=\"https://img.freepik.com/free-vector/wireframe-mesh-cube-connection-structure-digital-data-visualization-concept-vector-illustration_274626-272.jpg\" width=\"300\" height=\"300\">"
   ]
  },
  {
   "cell_type": "code",
   "execution_count": null,
   "metadata": {
    "id": "H8sNtFL2TUEx"
   },
   "outputs": [],
   "source": [
    "board = [[[ 0,  2,  3,  6,  4,],\n",
    "  [ 1,  3,  0,  9,  0,],\n",
    "  [ 1,  0,  6,  0,  0,],\n",
    "  [ 1,  3,  5,  6,  0,],\n",
    "  [ 0,  2,  2,  3,  1,]],\n",
    "\n",
    " [[ 1,  3,  0,  7,  0,],\n",
    "  [ 3,  5,  7,  0,  0,],\n",
    "  [ 2,  4,  6,  0,  7,],\n",
    "  [ 2,  4,  0,  7,  5,],\n",
    "  [ 0,  2,  0,  4,  2,]],\n",
    "\n",
    " [[ 0,  3,  4,  0,  5,],\n",
    "  [ 3,  4,  5,  7,  6,],\n",
    "  [ 0,  3,  5,  5,  4,],\n",
    "  [ 2,  4,  5,  5,  3,],\n",
    "  [ 1,  3,  4,  4,  0,]],\n",
    "\n",
    " [[ 0,  3,  3,  0,  2,],\n",
    "  [ 4,  5,  4,  3,  2,],\n",
    "  [ 2,  3,  3,  2,  1,],\n",
    "  [ 3,  0,  3,  0,  3,],\n",
    "  [ 2,  2,  2,  3,  3,]],\n",
    "\n",
    " [[ 2,  0,  2,  1,  1,],\n",
    "  [ 2,  3,  3,  2,  1,],\n",
    "  [ 1,  2,  0,  2,  1,],\n",
    "  [ 2,  3,  3,  3,  2,],\n",
    "  [ 0,  2,  2,  2,  0,]]]\n",
    "\n",
    "\n",
    "\n",
    "neighbor_diff_indexes = [(di, dj, dk) for di in [1,0,-1] for dj in [1,0,-1] for dk in [1,0,-1] if not (di==0 and dj==0 and dk==0)]\n",
    "\n",
    "def print_minesweeper_3d(imodel, imapback):\n",
    "    sol = [[[num if num > 0 else ' ' for num in col] for col in row] for row in board]\n",
    "    for i in range(len(imodel)):\n",
    "        if imodel[i] > 0:\n",
    "            x, y, z = imapback[i+1]\n",
    "            assert(sol[x][y][z] == ' ')\n",
    "            sol[x][y][z] = '*'\n",
    "    zero_poses = []\n",
    "    for i in range(len(imodel)):\n",
    "        x, y, z = imapback[i+1]\n",
    "        if sol[x][y][z] == ' ':\n",
    "            zero_poses.append((x,y,z))\n",
    "    print(zero_poses)\n",
    "    print(np.array(sol))\n",
    "\n",
    "mapback = None # Implement as part of homework\n",
    "varmap = None # Implement as part of homework\n",
    "def minesweeper_3d(solver, ivarmap, board):\n",
    "    assert(False), \"Implement as homework\"\n",
    "\n",
    "s = Minisat22()\n",
    "minesweeper_3d(s, varmap, board)\n",
    "s.solve()\n",
    "model = s.get_model()\n",
    "print_minesweeper_3d(model, mapback)"
   ]
  },
  {
   "cell_type": "markdown",
   "metadata": {
    "id": "Mp7KfYmnp_Uu"
   },
   "source": [
    "### Some final notes:\n",
    "\n",
    "*   As the Boolean Satisfiability problem is an NP-hard problem, it is too easy to run into a case where it takes too long to get a solution. If you don't get an answer for a minute, that often means your constraints are too hard.  A rule of thumb is to aim for making clauses with fewer literals!\n",
    "*   Use print() as much as you can!  If you're stuck, use print() to see what truth assignment the SAT solver returns, inspect what constraints are missing, and then you can add clauses according to those missed constraints."
   ]
  }
 ],
 "metadata": {
  "colab": {
   "collapsed_sections": [],
   "name": "SAT_exercise_fall2020.ipynb",
   "provenance": []
  },
  "kernelspec": {
   "display_name": "Python 3",
   "language": "python",
   "name": "python3"
  },
  "language_info": {
   "codemirror_mode": {
    "name": "ipython",
    "version": 3
   },
   "file_extension": ".py",
   "mimetype": "text/x-python",
   "name": "python",
   "nbconvert_exporter": "python",
   "pygments_lexer": "ipython3",
   "version": "3.8.10"
  }
 },
 "nbformat": 4,
 "nbformat_minor": 2
}
